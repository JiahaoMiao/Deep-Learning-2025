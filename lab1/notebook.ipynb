{
 "cells": [
  {
   "cell_type": "markdown",
   "metadata": {},
   "source": [
    "# DL laboratory 1\n",
    "\n",
    "## Exercise 2 - Hello World!\n",
    "\n",
    "- Write a python script which outputs the string `\"Hello World!\"` using the\n",
    "  built-in python function `print`.\n",
    "\n",
    "- Python is a dynamic typing language, allocate the following three variables\n",
    "  `5`, `6.5` and `\"hello\"` using the function `input` and print to terminal\n",
    "  using f-strings.\n"
   ]
  },
  {
   "cell_type": "code",
   "execution_count": 4,
   "metadata": {},
   "outputs": [
    {
     "name": "stdout",
     "output_type": "stream",
     "text": [
      "Hello World!\n",
      "5.0 6.5\n"
     ]
    }
   ],
   "source": [
    "print(\"Hello World!\")\n",
    "a = float(input(\"Enter a number: \"))\n",
    "b = float(input(\"Enter another number: \"))\n",
    "print(a,b)"
   ]
  },
  {
   "cell_type": "markdown",
   "metadata": {},
   "source": [
    "## Exercise 3 - Translating from C++\n",
    "\n",
    "1. Translate the following C++ code in a python script:\n",
    "    ```c++\n",
    "    #include <iostream>\n",
    "\n",
    "    int main()\n",
    "    {\n",
    "        int a = 1, b = 1;\n",
    "        int target = 48;\n",
    "        for(int n = 3; n <= target; ++n)\n",
    "        {\n",
    "            int fib = a + b;\n",
    "            std::cout << \"F(\"<< n << \") = \" << fib << std::endl;\n",
    "            a = b;\n",
    "            b = fib;\n",
    "        }\n",
    "\n",
    "        return 0;\n",
    "    }\n",
    "    ```\n",
    "2. Compare the output of the C++ code with the python code.\n"
   ]
  },
  {
   "cell_type": "code",
   "execution_count": 5,
   "metadata": {},
   "outputs": [
    {
     "name": "stdout",
     "output_type": "stream",
     "text": [
      "f(3) = 2\n",
      "f(4) = 3\n",
      "f(5) = 5\n",
      "f(6) = 8\n",
      "f(7) = 13\n",
      "f(8) = 21\n",
      "f(9) = 34\n",
      "f(10) = 55\n",
      "f(11) = 89\n",
      "f(12) = 144\n",
      "f(13) = 233\n",
      "f(14) = 377\n",
      "f(15) = 610\n",
      "f(16) = 987\n",
      "f(17) = 1597\n",
      "f(18) = 2584\n",
      "f(19) = 4181\n",
      "f(20) = 6765\n",
      "f(21) = 10946\n",
      "f(22) = 17711\n",
      "f(23) = 28657\n",
      "f(24) = 46368\n",
      "f(25) = 75025\n",
      "f(26) = 121393\n",
      "f(27) = 196418\n",
      "f(28) = 317811\n",
      "f(29) = 514229\n",
      "f(30) = 832040\n",
      "f(31) = 1346269\n",
      "f(32) = 2178309\n",
      "f(33) = 3524578\n",
      "f(34) = 5702887\n",
      "f(35) = 9227465\n",
      "f(36) = 14930352\n",
      "f(37) = 24157817\n",
      "f(38) = 39088169\n",
      "f(39) = 63245986\n",
      "f(40) = 102334155\n",
      "f(41) = 165580141\n",
      "f(42) = 267914296\n",
      "f(43) = 433494437\n",
      "f(44) = 701408733\n",
      "f(45) = 1134903170\n",
      "f(46) = 1836311903\n",
      "f(47) = 2971215073\n",
      "f(48) = 4807526976\n"
     ]
    }
   ],
   "source": [
    "a=1\n",
    "b=1\n",
    "target = 48\n",
    "\n",
    "for n in range(3,target+1): # 3 to 48\n",
    "    fib = a + b\n",
    "    print(f\"f({n}) = {fib}\")\n",
    "    a = b\n",
    "    b = fib\n",
    "\n"
   ]
  },
  {
   "cell_type": "markdown",
   "metadata": {},
   "source": [
    "C++ output: \n",
    "```C++\n",
    "F(45) = 1134903170\n",
    "F(46) = 1836311903\n",
    "F(47) = -1323752223\n",
    "F(48) = 512559680\n",
    "```"
   ]
  },
  {
   "cell_type": "markdown",
   "metadata": {},
   "source": [
    "## Exercise 4 - Python basics\n",
    "\n",
    "In this tutorial we will use `python` through `jupyter` notebooks.\n",
    "\n",
    "In order to start a session open a terminal and do:\n",
    "```bash\n",
    "jupyter notebook\n",
    "```\n",
    "This command will open a browser with an interactive python3 session.\n",
    "\n",
    "Commands are executed cell by cell by pressing SHIFT+ENTER.\n",
    "\n",
    "1. Create an empty list `v` and append integers from [0,15] using a `for` loop.\n",
    "\n",
    "3. Append 3 floats to an empty list.\n",
    "\n",
    "4. Create a dictionary with the following keys `('name', 'loss', 'weights')`. Initialize the dictionary with the following default values `('neuralnet', 0.12, [10,25,5])`. Print to screen the value of `weights`. Assign to `loss` the value 10.\n",
    "\n",
    "5. Given the list [2,6,3,8,9,11,-5] compute the mean value using a `for` loop.\n",
    "\n",
    "6. Define a list using the expression `2 ** n` with `n = 10`.\n"
   ]
  },
  {
   "cell_type": "code",
   "execution_count": null,
   "metadata": {},
   "outputs": [
    {
     "name": "stdout",
     "output_type": "stream",
     "text": [
      "[0, 1, 2, 3, 4, 5, 6, 7, 8, 9, 10, 11, 12, 13, 14, 15]\n",
      "[1.5, 2.5, 3.5]\n",
      "[10, 25, 5]\n",
      "{'name': 'neuralnet', 'loss': 10, 'weights': [10, 25, 5]}\n",
      "mean value of the list is 4.857142857142857\n",
      "[1, 2, 4, 8, 16, 32, 64, 128, 256, 512]\n"
     ]
    }
   ],
   "source": [
    "v = [i for i in range(16)] # a list of numbers from 0 to 15\n",
    "print(v)\n",
    "w = [] # an empty list\n",
    "w += [1.5,2.5,3.5] # add three numbers to the list\n",
    "print(w) \n",
    "dic = {'name' : 'neuralnet', 'loss': 0.12, 'weights': [10,25,5]} # a dictionary\n",
    "print(dic.get('weights')) # get the value of the key 'weights'\n",
    "dic['loss'] = 10 # change the value of the key 'loss'\n",
    "print(dic)\n",
    "l = [2,6,3,8,9,11,-5]\n",
    "mean = 0\n",
    "for i in l:\n",
    "    mean += i\n",
    "mean /= len(l)\n",
    "print(f\"mean value of the list is {mean}\")\n",
    "a = [2**n for n in range(10)] # a list of 10 numbers, 2^n\n",
    "print(a)"
   ]
  },
  {
   "cell_type": "markdown",
   "metadata": {},
   "source": [
    "## Exercise 5 - Functions\n",
    "\n",
    "1. Write a function which returns the average from a a list. Test the function using the list `v=[2,6,3,8,9,11,-5]`.\n",
    "\n",
    "2. Write the factorial function: `f(0) = 1`, `f(x) = x * f(x-1)`.\n"
   ]
  },
  {
   "cell_type": "code",
   "execution_count": 16,
   "metadata": {},
   "outputs": [
    {
     "name": "stdout",
     "output_type": "stream",
     "text": [
      "mean value of the list is 4.857142857142857\n",
      "factorial of 5 is 120\n"
     ]
    }
   ],
   "source": [
    "def mean(l):\n",
    "    mean = 0\n",
    "    for i in l:\n",
    "        mean += i\n",
    "    mean /= len(l)\n",
    "    return mean\n",
    "\n",
    "v = [2,6,3,8,9,11,-5]\n",
    "print(f\"mean value of the list is {mean(v)}\")\n",
    "\n",
    "def factorial(n):\n",
    "    if n == 0:\n",
    "        return 1\n",
    "    for i in range(1,n):\n",
    "        n *= i\n",
    "    return n\n",
    "\n",
    "print(f\"factorial of 5 is {factorial(5)}\")\n",
    "    "
   ]
  },
  {
   "cell_type": "markdown",
   "metadata": {},
   "source": [
    "## Exercise 6 - Class 1\n",
    "\n",
    "Given the base class:\n",
    "```python\n",
    "class Variable:\n",
    "    def __init__(self, name):\n",
    "        self.name = name\n",
    "\n",
    "    def sample(self, size):\n",
    "        raise NotImplementedError()\n",
    "```\n",
    "\n",
    "Implement an inherited `Normal` class which outputs a list of normal samples [mu=0, sigma=1] by overriding the `Variable.sample` method.\n"
   ]
  },
  {
   "cell_type": "code",
   "execution_count": 2,
   "metadata": {},
   "outputs": [
    {
     "name": "stdout",
     "output_type": "stream",
     "text": [
      "[ 0.13025881 -0.28690482  1.828908    0.78385381 -2.2326517   1.85284775\n",
      "  1.24766061 -0.95157092  2.62529346 -0.00682891]\n"
     ]
    }
   ],
   "source": [
    "import numpy as np\n",
    "\n",
    "class Variable:\n",
    "    def __init__(self, name):\n",
    "        self.name = name\n",
    "\n",
    "    def sample(self, size):\n",
    "        raise NotImplementedError() # raise an error if the method is not implemented\n",
    "\n",
    "class Normal(Variable):\n",
    "    def __init__(self, name):\n",
    "        super().__init__(name) # call the constructor of the parent class\n",
    "        self.mean = 0 # mean value of the normal distribution\n",
    "        self.std = 1 # standard deviation of the normal distribution\n",
    "\n",
    "    def sample(self, size):\n",
    "        return np.random.normal(self.mean, self.std, size)\n",
    "\n",
    "Normal = Normal('Normal')\n",
    "print(Normal.sample(10))"
   ]
  },
  {
   "cell_type": "markdown",
   "metadata": {},
   "source": [
    "## Exercise 7 - Class 2\n",
    "\n",
    "Construct a class which constructs and evaluates a 1D polynomial model with the following API:\n",
    "- the class constructor must take the polynomial degree as argument.\n",
    "- implement a `set_parameters` and `get_parameters` methods to update the parameter list.\n",
    "- provide an `execute` method to access the polynomial prediction at a specific value in `x`."
   ]
  },
  {
   "cell_type": "code",
   "execution_count": 8,
   "metadata": {},
   "outputs": [
    {
     "name": "stdout",
     "output_type": "stream",
     "text": [
      "get parameters  [ 1.81004913 -0.08267447  0.8813076 ]\n",
      "5.169930581110977\n"
     ]
    },
    {
     "data": {
      "image/png": "[encoded data removed]",
      "text/plain": [
       "<Figure size 640x480 with 1 Axes>"
      ]
     },
     "metadata": {},
     "output_type": "display_data"
    }
   ],
   "source": [
    "import numpy as np\n",
    "import matplotlib.pyplot as plt\n",
    "\n",
    "class Polynomial:\n",
    "    def __init__(self, degree):\n",
    "        self.degree = degree\n",
    "        # growing ordering a + b x + c x^2 + d x^3 +...\n",
    "        self._parameters = [0.0]*(degree+1)\n",
    "\n",
    "    def set_parameters(self, parameters):\n",
    "        self._parameters = parameters # a list of parameters\n",
    "\n",
    "    def get_parameters(self):\n",
    "        return self._parameters # return the list of parameters4\n",
    "\n",
    "    def _execute(self, x): # private method that is not accessible from outside\n",
    "        y = 0\n",
    "        for i in range(self.degree+1):\n",
    "            y += self._parameters[i] * x**i\n",
    "        return y    \n",
    "    \n",
    "    def __call__(self, x):\n",
    "        return self._execute(x)\n",
    "\n",
    "    # property decorator to access the private variable _parameters\n",
    "    @property\n",
    "    def parameters(self):\n",
    "        return self._parameters\n",
    "    \n",
    "    @parameters.setter\n",
    "    def parameters(self, p):\n",
    "        if len(p) != self.degree+1:\n",
    "            raise ValueError('Parameter length does not match the degree')\n",
    "        self._degree = p\n",
    "\n",
    "    \n",
    "degree = 2\n",
    "p = Polynomial(degree)\n",
    "p.set_parameters(Normal.sample(degree+1))\n",
    "\n",
    "print(\"get parameters \", p.get_parameters())\n",
    "print(p(2))\n",
    "\n",
    "x = np.linspace(-10,10,100)\n",
    "y = p(x)\n",
    "plt.plot(x,y)\n",
    "plt.show()\n"
   ]
  },
  {
   "cell_type": "code",
   "execution_count": null,
   "metadata": {},
   "outputs": [],
   "source": []
  },
  {
   "cell_type": "code",
   "execution_count": null,
   "metadata": {},
   "outputs": [],
   "source": []
  }
 ],
 "metadata": {
  "kernelspec": {
   "display_name": "tf",
   "language": "python",
   "name": "python3"
  },
  "language_info": {
   "codemirror_mode": {
    "name": "ipython",
    "version": 3
   },
   "file_extension": ".py",
   "mimetype": "text/x-python",
   "name": "python",
   "nbconvert_exporter": "python",
   "pygments_lexer": "ipython3",
   "version": "3.9.18"
  }
 },
 "nbformat": 4,
 "nbformat_minor": 2
}
